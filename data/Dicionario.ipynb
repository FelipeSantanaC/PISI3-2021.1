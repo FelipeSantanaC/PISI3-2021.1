{
 "cells": [
  {
   "cell_type": "markdown",
   "metadata": {},
   "source": [
    "**Customers Dataset (Dataset do Cliente) ===============================================**\n",
    "\n",
    "Este dataset contém informações sobre os clientes e suas localizações. Podendo ser utilizado para identificar clientes unicos nos pedidos do dataset e para encontrar a localização de entrega dos pedidos.\n",
    "\n",
    "Na estrutura desse dataset, cada pedido é atribuido ao id único do cliente. \n",
    "Significando que o id único do cliente poderá ter varios pedidos, porém os pedidos poderam ter id's diferentes(um para muitos).\n",
    "\n",
    "O proposito de ter customer_unique_id no dataset é para permitir que identifiquemos os clientes que fizeram a compra na loja. Caso contrário encontrariamos cada pedido associado a clientes diferentes.\n",
    "\n",
    "**COLUNAS**\n",
    "\n",
    "*customer_id* = chave para o conjunto de dados de pedidos. Cada pedido tem um customer_id exclusivo;\n",
    "\n",
    "*customer_unique_id* = identificador exclusivo de um cliente;\n",
    "\n",
    "*customer_zip_code_prefix* = primeiros cinco dígitos do código postal do cliente;\n",
    "\n",
    "*customer_city customer_state* = estado(geográfico) do cliente;"
   ]
  },
  {
   "cell_type": "markdown",
   "metadata": {},
   "source": [
    "**Geolocation Dataset (Dataset de geolocalização) ===============================================**\n",
    "\n",
    "Este dataset contém informação do codigo postal brasileiro, da latitude e longitude. Além do nome da cidade e a cigla do estado.\n",
    "\n",
    "**COLUNAS**\n",
    "\n",
    "*geolocation_zip_code_prefix* = primeiros 5 dígitos do CEP (código postal);\n",
    "\n",
    "*geolocation_lat* = latitude;\n",
    "\n",
    "*geolocation_lng* = longitude;\n",
    "\n",
    "*geolocation_city* = nome da cidade;\n",
    "\n",
    "*geolocation_state* = estado(geográfico);"
   ]
  },
  {
   "cell_type": "markdown",
   "metadata": {},
   "source": [
    "**Order Items Dataset (Dataset dos itens do pedido) ===============================================**\n",
    "\n",
    "Este dataset inclue os dados sobre os produtos comprados em cada pedido.\n",
    "\n",
    "\n",
    "**COLUNAS**\n",
    "\n",
    "*order_id* = identificador exclusivo do pedido;\n",
    "\n",
    "*order_item_id* = número sequêncial que identifica o número de itens incluídos no mesmo pedido;\n",
    "\n",
    "*product_id* = identificador exclusivo do produto;\n",
    "\n",
    "*seller_id* = identificador exclusivo do vendedor;\n",
    "\n",
    "*shipping_limit_date* = Mostra a data limite de envio do vendedor para processar o pedido ao parceiro logístico;\n",
    "\n",
    "*price* = Preço do item;\n",
    "\n",
    "*freight_value* = item valor do frete item (se um pedido tiver mais de um item o valor do frete é dividido entre os itens);\n"
   ]
  },
  {
   "cell_type": "markdown",
   "metadata": {},
   "source": [
    "**Payments Dataset (Dataset de Pagamentos) ===============================================**\n",
    "\n",
    "Este dataset tem informação referente ao pagamento dos pedidos.\n",
    "\n",
    "**COLUNAS**\n",
    "\n",
    "*order_id* = identificador único de um pedido;\n",
    "\n",
    "*payment_sequential* = um cliente pode pagar um pedido com mais de um método de pagamento. Se ele fizer isso, uma sequência será criada para acomodar todos os pagamentos;\n",
    "\n",
    "*payment_type* = forma de pagamento escolhida pelo cliente;\n",
    "\n",
    "*payment_installments* = número de parcelas escolhido pelo cliente;\n",
    "\n",
    "*payment_value* = valor da transação;"
   ]
  },
  {
   "cell_type": "markdown",
   "metadata": {},
   "source": [
    "**Order Reviews Dataset (Dataset de avaliações dos pedidos) ======================================**\n",
    "\n",
    "Este dataset inclue dados sobre as avaliações feita pelos clientes.\n",
    "\n",
    "Após o cliente comprar o produto na Olist Store o vendedor é notificado para completar o pedido. Uma vez que o cliente receber o produto, ou o tempo estimado de entrega, o cliente recebe uma pesquisa de satisfação pelo email, onde ele pode dar a nota para a experiência de compra e escrever algum comentario.\n",
    "\n",
    "**COLUNAS**\n",
    "\n",
    "*review_id* = identificador exclusivo de avaliação;\n",
    "\n",
    "*order_id* = identificador exclusivo de pedido;\n",
    "\n",
    "*review_score* = Nota que varia de 1 a 5 dada pelo cliente em uma pesquisa de satisfação;\n",
    "\n",
    "*review_comment_title* = Título do comentário da avaliação deixada pelo cliente, em português;\n",
    "\n",
    "*review_comment_message* = Mensagem de comentário da avaliação deixada pelo cliente, em português;\n",
    "\n",
    "*review_creation_date* = Mostra a data em que a pesquisa de satisfação foi enviada ao cliente;\n",
    "\n",
    "*review_answer_timestamp* = Mostra o horario e data  de resposta da pesquisa de satisfação;"
   ]
  },
  {
   "cell_type": "markdown",
   "metadata": {},
   "source": [
    "**Order Dataset (Dataset do pedido) ===============================================**\n",
    "\n",
    "Este dataset é o núcleo dos dados de pedidos. Pois poderá ser encontrado todas as informações sobre os pedidos.\n",
    "\n",
    "**COLUNAS**\n",
    "\n",
    "*order_id* = identificador único do pedido;\n",
    "\n",
    "*customer_id* = chave para o conjunto de dados do cliente. Cada pedido tem um customer_id exclusivo;\n",
    "\n",
    "*order_status* = Status do pedido (entregue, enviado, etc);\n",
    "\n",
    "*order_purchase_timestamp* = Mostra o carimbo de data/hora da compra;\n",
    "\n",
    "*order_approved_at* = Mostra o carimbo de data/hora de aprovação do pagamento;\n",
    "\n",
    "*order_delivered_carrier_date* = Mostra o carimbo de data/hora de lançamento do pedido. Quando foi tratado para o parceiro logístico;\n",
    "\n",
    "*order_delivered_customer_date* = Mostra a data real de entrega do pedido ao cliente;\n",
    "\n",
    "*order_estimated_delivery_date* = Mostra a data estimada de entrega que foi informada ao cliente no momento da compra;"
   ]
  },
  {
   "cell_type": "markdown",
   "metadata": {},
   "source": [
    "**Products Dataset (Dataset dos produtos) ===============================================**\n",
    "\n",
    "Este dataset contem a informação sobre o produto. Como o tamanho do nome, tamanho, peso, descrição, etc.\n",
    "\n",
    "**COLUNAS**\n",
    "\n",
    "*product_id* = identificador exclusivo do produto;\n",
    "\n",
    "*product_category_name* = categoria raiz do produto, em português;\n",
    "\n",
    "*product_name_lenght* = número de caracteres extraídos do nome do produto;\n",
    "\n",
    "*product_description_lenght* = número de caracteres extraídos da descrição do produto;\n",
    "\n",
    "*product_photos_qty* = número de fotos publicadas do produto;\n",
    "\n",
    "*product_weight_g* = peso do produto medido em gramas;\n",
    "\n",
    "*product_length_cm* = comprimento do produto medido em centímetros;\n",
    "\n",
    "*product_height_cm* = altura do produto medida em centímetros;\n",
    "\n",
    "*product_width_cm* = largura do produto medida em centímetros;"
   ]
  },
  {
   "cell_type": "markdown",
   "metadata": {},
   "source": [
    "**Sellers Dataset (Dataset do vendedor) ===============================================**\n",
    "\n",
    "Este dataset inclue os dados sobre os vendedores que concluiram um pedido feito na loja da Olist. Os dados aqui contido podem ser utilizados para identificar qual vendedor esta atrelado cada produto.\n",
    "\n",
    "**COLUNAS**\n",
    "\n",
    "*seller_id* = identificador exclusivo do vendedor;\n",
    "\n",
    "*seller_zip_code_prefix* = primeiros 5 dígitos do CEP do vendedor;\n",
    "\n",
    "*seller_city* = nome da cidade do vendedor;\n",
    "\n",
    "*seller_state* = estado(geográfico) do vendedor;\n"
   ]
  },
  {
   "cell_type": "markdown",
   "metadata": {},
   "source": [
    "**Category Name Translation (Tradução do nome da categoria) ================================**\n",
    "\n",
    "Traduz o nome da categoria do produto para inglês.\n",
    "\n",
    "**COLUNAS**\n",
    "\n",
    "*product_category_name* = nome da categoria em português;\n",
    "\n",
    "*product_category_name_english* = nome da categoria em inglês;"
   ]
  }
 ],
 "metadata": {
  "interpreter": {
   "hash": "4691a91fb8f94c4df601d3409b1d0033a58e9e051ddaebbe0ea1ba1c5053072b"
  },
  "kernelspec": {
   "display_name": "Python 3.10.2 64-bit",
   "language": "python",
   "name": "python3"
  },
  "language_info": {
   "name": "python",
   "version": "3.10.2"
  },
  "orig_nbformat": 4
 },
 "nbformat": 4,
 "nbformat_minor": 2
}
