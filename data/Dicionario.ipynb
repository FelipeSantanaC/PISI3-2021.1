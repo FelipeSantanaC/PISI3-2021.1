{
 "cells": [
  {
   "cell_type": "markdown",
   "metadata": {},
   "source": [
    "**Dataset do Cliente**\n",
    "\n",
    "Este dataset contém informações sobre os clientes e suas localizações. Use isto para identificar clientes unicos nos pedidos do dataset e para encontrar a localização de entrega dos pedidos.\n",
    "\n",
    "Na estrutura desse dataset, cada pedido é atribuido ao id único do cliente. \n",
    "Significando que o id único do cliente poderá ter varios pedidos, porém os pedidos poderam ter id's diferentes(um para muitos).\n",
    "\n",
    "O proposito de ter customer_unique_id no dataset é para permitir que identifiquemos os clientes que fizeram a compra na loja. Caso contrário encontrariamos cada pedido associado a clientes diferentes."
   ]
  },
  {
   "cell_type": "markdown",
   "metadata": {},
   "source": [
    "**Dataset de geolocalização**\n",
    "\n",
    "Este dataset contém informação do codigo postal brasileiro, da latitude e longitude. Além do nome da cidade e a cigla do estado."
   ]
  },
  {
   "cell_type": "markdown",
   "metadata": {},
   "source": [
    "**Dataset dos itens do pedido**\n",
    "\n",
    "Este dataset inclue os dados sobre os itens comprados em cada pedido."
   ]
  },
  {
   "cell_type": "markdown",
   "metadata": {},
   "source": [
    "**Dataset de Pagamentos**\n",
    "\n",
    "Este dataset inclue os dados sobre as opções de pagamento dos pedidos."
   ]
  },
  {
   "cell_type": "markdown",
   "metadata": {},
   "source": [
    "**Dataset de avaliações dos pedidos**\n",
    "\n",
    "Este dataset inclue dados sobre as avaliações feita pelos clientes.\n",
    "\n",
    "Após o cliente comprar o produto na Olist Store o vendedor é notificado para completar o pedido. Uma vez que o cliente receber o produto, ou o tempo estimado de entrega, o cliente recebe uma pesquisa de satisfação pelo email, onde ele pode dar a nota para a experiência de compra e escrever algum comentario."
   ]
  },
  {
   "cell_type": "markdown",
   "metadata": {},
   "source": [
    "**Dataset do pedido**\n",
    "\n",
    "Este dataset é o núcleo dos dados de pedidos. Pois poderá ser encontrado todas as informações sobre os pedidos."
   ]
  },
  {
   "cell_type": "markdown",
   "metadata": {},
   "source": [
    "**Dataset dos produtos**\n",
    "\n",
    "Este dataset contem a informação sobre o produto. Como o tamanho do nome, tamanho, peso, descrição, etc."
   ]
  },
  {
   "cell_type": "markdown",
   "metadata": {},
   "source": [
    "**Dataset do vendedor**\n",
    "\n",
    "Este dataset inclue os dados sobre os vendedores que concluiram um pedido feito na loja da Olist. Os dados aqui contido podem ser utilizados para identificar qual vendedor esta atrelado cada produto."
   ]
  }
 ],
 "metadata": {
  "language_info": {
   "name": "python"
  },
  "orig_nbformat": 4
 },
 "nbformat": 4,
 "nbformat_minor": 2
}
